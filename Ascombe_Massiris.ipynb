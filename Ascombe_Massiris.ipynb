{
  "nbformat": 4,
  "nbformat_minor": 0,
  "metadata": {
    "colab": {
      "name": "Ascombe-Massiris.ipynb",
      "provenance": [],
      "authorship_tag": "ABX9TyP8F5QoRiMN0lTIbw+jT4Q/",
      "include_colab_link": true
    },
    "kernelspec": {
      "name": "python3",
      "display_name": "Python 3"
    },
    "language_info": {
      "name": "python"
    }
  },
  "cells": [
    {
      "cell_type": "markdown",
      "metadata": {
        "id": "view-in-github",
        "colab_type": "text"
      },
      "source": [
        "<a href=\"https://colab.research.google.com/github/massirism/ML-UNS/blob/main/Ascombe_Massiris.ipynb\" target=\"_parent\"><img src=\"https://colab.research.google.com/assets/colab-badge.svg\" alt=\"Open In Colab\"/></a>"
      ]
    },
    {
      "cell_type": "code",
      "metadata": {
        "colab": {
          "base_uri": "https://localhost:8080/"
        },
        "id": "e1VKiJF4uw0f",
        "outputId": "00c25ceb-9f80-4cca-9e5d-80f4a239e664"
      },
      "source": [
        "import pandas as pd\n",
        "import seaborn as sns\n",
        "import statsmodels.api as sm\n",
        "\n",
        "#mean, variance and correlation coefficient\n",
        "anscombe = sns.load_dataset('anscombe')  \n",
        "df = anscombe.groupby('dataset')\n",
        "mean_var = pd.concat([df.mean(), df.var()], keys=['mean', 'variance'])\n",
        "corr = pd.concat([df.corr()], keys=['correlation'])\n",
        "print(mean_var)\n",
        "print(corr)\n",
        "\n",
        "#linear regression\n",
        "data_dict = dict(list(df))\n",
        "array_x, array_y = {}, {}\n",
        "for key, value in data_dict.items():\n",
        "    array_x[key] = value['x'].values\n",
        "    array_y[key] = value['y'].values\n",
        "for key in array_x.keys():\n",
        "    x = sm.add_constant(array_x[key])\n",
        "    y = array_y[key]\n",
        "    est = sm.OLS(y, x).fit()\n",
        "    params = est.params\n",
        "    print(key, ': beta0 =', params[0], 'beta1 =', params[1])"
      ],
      "execution_count": 30,
      "outputs": [
        {
          "output_type": "stream",
          "name": "stdout",
          "text": [
            "                     x         y\n",
            "         dataset                \n",
            "mean     I         9.0  7.500909\n",
            "         II        9.0  7.500909\n",
            "         III       9.0  7.500000\n",
            "         IV        9.0  7.500909\n",
            "variance I        11.0  4.127269\n",
            "         II       11.0  4.127629\n",
            "         III      11.0  4.122620\n",
            "         IV       11.0  4.123249\n",
            "                              x         y\n",
            "            dataset                      \n",
            "correlation I       x  1.000000  0.816421\n",
            "                    y  0.816421  1.000000\n",
            "            II      x  1.000000  0.816237\n",
            "                    y  0.816237  1.000000\n",
            "            III     x  1.000000  0.816287\n",
            "                    y  0.816287  1.000000\n",
            "            IV      x  1.000000  0.816521\n",
            "                    y  0.816521  1.000000\n",
            "I : beta0 = 3.0000909090909076 beta1 = 0.5000909090909093\n",
            "II : beta0 = 3.0009090909090905 beta1 = 0.5000000000000001\n",
            "III : beta0 = 3.0024545454545444 beta1 = 0.4997272727272729\n",
            "IV : beta0 = 3.001727272727269 beta1 = 0.49990909090909097\n"
          ]
        }
      ]
    },
    {
      "cell_type": "code",
      "metadata": {
        "colab": {
          "base_uri": "https://localhost:8080/",
          "height": 205
        },
        "id": "5QcPTxE5yqlu",
        "outputId": "c5735e9e-abb6-43d4-cad0-cc2a74ea1163"
      },
      "source": [
        "sns.set(style='whitegrid')\n",
        "g = sns.FacetGrid(anscombe, col=\"dataset\", hue=\"dataset\")\n",
        "g.map(plt.scatter, 'x', 'y')\n",
        "plt.show()"
      ],
      "execution_count": 31,
      "outputs": [
        {
          "output_type": "display_data",
          "data": {
            "image/png": "[encoded data removed]",
            "text/plain": [
              "<Figure size 864x216 with 4 Axes>"
            ]
          },
          "metadata": {}
        }
      ]
    },
    {
      "cell_type": "markdown",
      "metadata": {
        "id": "l4RBL6Zvyx2C"
      },
      "source": [
        "Viendo los datos simplemente de la tabla no es posible sacar una conclusión sobre cual sea el dataset correcto, como bien dijo el profesor todos son estadísticamente iguales, así que para diferenciarlos los grafiqué.\n",
        "\n",
        "Al graficarlos se pyuede ver que los datasets 2 y 4 tienen un comportamiento no lineal, lo cual no nos conviene, entonces utilizaría los datasets 1 y 3. Sobre todo el 3 aún si tiene un dato separado del grupo, porque no será ponderante.\n",
        "\n",
        "\n",
        "Miguel Massiris F.\n"
      ]
    }
  ]
}