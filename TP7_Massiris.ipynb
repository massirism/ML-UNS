{
  "nbformat": 4,
  "nbformat_minor": 0,
  "metadata": {
    "colab": {
      "name": "TP7-Massiris.ipynb",
      "provenance": [],
      "authorship_tag": "ABX9TyOwPFh5wEI9g40n4gnUijqS",
      "include_colab_link": true
    },
    "kernelspec": {
      "name": "python3",
      "display_name": "Python 3"
    },
    "language_info": {
      "name": "python"
    }
  },
  "cells": [
    {
      "cell_type": "markdown",
      "metadata": {
        "id": "view-in-github",
        "colab_type": "text"
      },
      "source": [
        "<a href=\"https://colab.research.google.com/github/massirism/ML-UNS/blob/main/TP7_Massiris.ipynb\" target=\"_parent\"><img src=\"https://colab.research.google.com/assets/colab-badge.svg\" alt=\"Open In Colab\"/></a>"
      ]
    },
    {
      "cell_type": "code",
      "metadata": {
        "colab": {
          "base_uri": "https://localhost:8080/",
          "height": 320
        },
        "id": "V72_Rj2tshcX",
        "outputId": "bfa72d74-8f77-4d9a-de4d-55ae264cb4b8"
      },
      "source": [
        "import pandas as pd\n",
        "ds = pd.read_csv(\"https://raw.githubusercontent.com/emmanueliarussi/DataScienceCapstone/master/3_MidtermProjects/ProjectBHP/data/housing_data.csv\")\n",
        "ds.describe()"
      ],
      "execution_count": 84,
      "outputs": [
        {
          "output_type": "execute_result",
          "data": {
            "text/html": [
              "<div>\n",
              "<style scoped>\n",
              "    .dataframe tbody tr th:only-of-type {\n",
              "        vertical-align: middle;\n",
              "    }\n",
              "\n",
              "    .dataframe tbody tr th {\n",
              "        vertical-align: top;\n",
              "    }\n",
              "\n",
              "    .dataframe thead th {\n",
              "        text-align: right;\n",
              "    }\n",
              "</style>\n",
              "<table border=\"1\" class=\"dataframe\">\n",
              "  <thead>\n",
              "    <tr style=\"text-align: right;\">\n",
              "      <th></th>\n",
              "      <th>CRIM</th>\n",
              "      <th>ZN</th>\n",
              "      <th>INDUS</th>\n",
              "      <th>CHAS</th>\n",
              "      <th>NOX</th>\n",
              "      <th>RM</th>\n",
              "      <th>AGE</th>\n",
              "      <th>DIS</th>\n",
              "      <th>RAD</th>\n",
              "      <th>TAX</th>\n",
              "      <th>PTRATIO</th>\n",
              "      <th>B</th>\n",
              "      <th>LSTAT</th>\n",
              "      <th>MEDV</th>\n",
              "    </tr>\n",
              "  </thead>\n",
              "  <tbody>\n",
              "    <tr>\n",
              "      <th>count</th>\n",
              "      <td>486.000000</td>\n",
              "      <td>486.000000</td>\n",
              "      <td>486.000000</td>\n",
              "      <td>486.000000</td>\n",
              "      <td>506.000000</td>\n",
              "      <td>506.000000</td>\n",
              "      <td>486.000000</td>\n",
              "      <td>506.000000</td>\n",
              "      <td>506.000000</td>\n",
              "      <td>506.000000</td>\n",
              "      <td>506.000000</td>\n",
              "      <td>506.000000</td>\n",
              "      <td>486.000000</td>\n",
              "      <td>506.000000</td>\n",
              "    </tr>\n",
              "    <tr>\n",
              "      <th>mean</th>\n",
              "      <td>3.611874</td>\n",
              "      <td>11.211934</td>\n",
              "      <td>11.083992</td>\n",
              "      <td>0.069959</td>\n",
              "      <td>0.554695</td>\n",
              "      <td>6.284634</td>\n",
              "      <td>68.518519</td>\n",
              "      <td>3.795043</td>\n",
              "      <td>9.549407</td>\n",
              "      <td>408.237154</td>\n",
              "      <td>18.455534</td>\n",
              "      <td>356.674032</td>\n",
              "      <td>12.715432</td>\n",
              "      <td>22.532806</td>\n",
              "    </tr>\n",
              "    <tr>\n",
              "      <th>std</th>\n",
              "      <td>8.720192</td>\n",
              "      <td>23.388876</td>\n",
              "      <td>6.835896</td>\n",
              "      <td>0.255340</td>\n",
              "      <td>0.115878</td>\n",
              "      <td>0.702617</td>\n",
              "      <td>27.999513</td>\n",
              "      <td>2.105710</td>\n",
              "      <td>8.707259</td>\n",
              "      <td>168.537116</td>\n",
              "      <td>2.164946</td>\n",
              "      <td>91.294864</td>\n",
              "      <td>7.155871</td>\n",
              "      <td>9.197104</td>\n",
              "    </tr>\n",
              "    <tr>\n",
              "      <th>min</th>\n",
              "      <td>0.006320</td>\n",
              "      <td>0.000000</td>\n",
              "      <td>0.460000</td>\n",
              "      <td>0.000000</td>\n",
              "      <td>0.385000</td>\n",
              "      <td>3.561000</td>\n",
              "      <td>2.900000</td>\n",
              "      <td>1.129600</td>\n",
              "      <td>1.000000</td>\n",
              "      <td>187.000000</td>\n",
              "      <td>12.600000</td>\n",
              "      <td>0.320000</td>\n",
              "      <td>1.730000</td>\n",
              "      <td>5.000000</td>\n",
              "    </tr>\n",
              "    <tr>\n",
              "      <th>25%</th>\n",
              "      <td>0.081900</td>\n",
              "      <td>0.000000</td>\n",
              "      <td>5.190000</td>\n",
              "      <td>0.000000</td>\n",
              "      <td>0.449000</td>\n",
              "      <td>5.885500</td>\n",
              "      <td>45.175000</td>\n",
              "      <td>2.100175</td>\n",
              "      <td>4.000000</td>\n",
              "      <td>279.000000</td>\n",
              "      <td>17.400000</td>\n",
              "      <td>375.377500</td>\n",
              "      <td>7.125000</td>\n",
              "      <td>17.025000</td>\n",
              "    </tr>\n",
              "    <tr>\n",
              "      <th>50%</th>\n",
              "      <td>0.253715</td>\n",
              "      <td>0.000000</td>\n",
              "      <td>9.690000</td>\n",
              "      <td>0.000000</td>\n",
              "      <td>0.538000</td>\n",
              "      <td>6.208500</td>\n",
              "      <td>76.800000</td>\n",
              "      <td>3.207450</td>\n",
              "      <td>5.000000</td>\n",
              "      <td>330.000000</td>\n",
              "      <td>19.050000</td>\n",
              "      <td>391.440000</td>\n",
              "      <td>11.430000</td>\n",
              "      <td>21.200000</td>\n",
              "    </tr>\n",
              "    <tr>\n",
              "      <th>75%</th>\n",
              "      <td>3.560262</td>\n",
              "      <td>12.500000</td>\n",
              "      <td>18.100000</td>\n",
              "      <td>0.000000</td>\n",
              "      <td>0.624000</td>\n",
              "      <td>6.623500</td>\n",
              "      <td>93.975000</td>\n",
              "      <td>5.188425</td>\n",
              "      <td>24.000000</td>\n",
              "      <td>666.000000</td>\n",
              "      <td>20.200000</td>\n",
              "      <td>396.225000</td>\n",
              "      <td>16.955000</td>\n",
              "      <td>25.000000</td>\n",
              "    </tr>\n",
              "    <tr>\n",
              "      <th>max</th>\n",
              "      <td>88.976200</td>\n",
              "      <td>100.000000</td>\n",
              "      <td>27.740000</td>\n",
              "      <td>1.000000</td>\n",
              "      <td>0.871000</td>\n",
              "      <td>8.780000</td>\n",
              "      <td>100.000000</td>\n",
              "      <td>12.126500</td>\n",
              "      <td>24.000000</td>\n",
              "      <td>711.000000</td>\n",
              "      <td>22.000000</td>\n",
              "      <td>396.900000</td>\n",
              "      <td>37.970000</td>\n",
              "      <td>50.000000</td>\n",
              "    </tr>\n",
              "  </tbody>\n",
              "</table>\n",
              "</div>"
            ],
            "text/plain": [
              "             CRIM          ZN       INDUS  ...           B       LSTAT        MEDV\n",
              "count  486.000000  486.000000  486.000000  ...  506.000000  486.000000  506.000000\n",
              "mean     3.611874   11.211934   11.083992  ...  356.674032   12.715432   22.532806\n",
              "std      8.720192   23.388876    6.835896  ...   91.294864    7.155871    9.197104\n",
              "min      0.006320    0.000000    0.460000  ...    0.320000    1.730000    5.000000\n",
              "25%      0.081900    0.000000    5.190000  ...  375.377500    7.125000   17.025000\n",
              "50%      0.253715    0.000000    9.690000  ...  391.440000   11.430000   21.200000\n",
              "75%      3.560262   12.500000   18.100000  ...  396.225000   16.955000   25.000000\n",
              "max     88.976200  100.000000   27.740000  ...  396.900000   37.970000   50.000000\n",
              "\n",
              "[8 rows x 14 columns]"
            ]
          },
          "metadata": {},
          "execution_count": 84
        }
      ]
    },
    {
      "cell_type": "code",
      "metadata": {
        "id": "tggwmClstXbx"
      },
      "source": [
        "#Librerías\n",
        "import numpy as np\n",
        "import matplotlib.pyplot as plt\n",
        "import seaborn as sns\n",
        "from sklearn.metrics import mean_squared_error\n",
        "from sklearn.model_selection import cross_val_score\n",
        "from collections import Counter\n",
        "from IPython.core.display import display, HTML\n",
        "\n",
        "from sklearn.preprocessing import StandardScaler\n",
        "from sklearn.pipeline import make_pipeline\n",
        "from sklearn.model_selection import KFold\n",
        "from sklearn.neighbors import KNeighborsRegressor\n",
        "from sklearn.metrics import mean_squared_error, r2_score\n",
        "from sklearn.model_selection import cross_val_predict\n",
        "from sklearn.linear_model import LinearRegression\n",
        "from math import sqrt\n",
        "sns.set_style('darkgrid')"
      ],
      "execution_count": 85,
      "outputs": []
    },
    {
      "cell_type": "code",
      "metadata": {
        "colab": {
          "base_uri": "https://localhost:8080/"
        },
        "id": "SeTK7mvvuFio",
        "outputId": "0f33e70a-c76d-49d3-d2fd-ae1ff09d508a"
      },
      "source": [
        "#Lo hago para checkear que no tengo valores nulos en la data\n",
        "ds.isnull().sum()\n",
        "#print(ds)"
      ],
      "execution_count": 86,
      "outputs": [
        {
          "output_type": "execute_result",
          "data": {
            "text/plain": [
              "CRIM       20\n",
              "ZN         20\n",
              "INDUS      20\n",
              "CHAS       20\n",
              "NOX         0\n",
              "RM          0\n",
              "AGE        20\n",
              "DIS         0\n",
              "RAD         0\n",
              "TAX         0\n",
              "PTRATIO     0\n",
              "B           0\n",
              "LSTAT      20\n",
              "MEDV        0\n",
              "dtype: int64"
            ]
          },
          "metadata": {},
          "execution_count": 86
        }
      ]
    },
    {
      "cell_type": "code",
      "metadata": {
        "colab": {
          "base_uri": "https://localhost:8080/"
        },
        "id": "pnsM_UZ23npr",
        "outputId": "6dd3b741-a677-47df-da25-ee848ceb5507"
      },
      "source": [
        "#Para sacar los datos nulos\n",
        "df=ds.dropna()\n",
        "df.isnull().sum()"
      ],
      "execution_count": 87,
      "outputs": [
        {
          "output_type": "execute_result",
          "data": {
            "text/plain": [
              "CRIM       0\n",
              "ZN         0\n",
              "INDUS      0\n",
              "CHAS       0\n",
              "NOX        0\n",
              "RM         0\n",
              "AGE        0\n",
              "DIS        0\n",
              "RAD        0\n",
              "TAX        0\n",
              "PTRATIO    0\n",
              "B          0\n",
              "LSTAT      0\n",
              "MEDV       0\n",
              "dtype: int64"
            ]
          },
          "metadata": {},
          "execution_count": 87
        }
      ]
    },
    {
      "cell_type": "code",
      "metadata": {
        "id": "tTovcVrQ4TXF"
      },
      "source": [
        "#Bien, ahora que el dataset está limpio separaré el target de las demás variables.\n",
        "#La 13 es MEDV que es el valor medio del valor de cada casa. Por eso lo llevo entre -1 a 1\n",
        "x = df.iloc[:, 0:13].values\n",
        "y = df.iloc[:, 13].values.reshape(-1,1)\n"
      ],
      "execution_count": 88,
      "outputs": []
    },
    {
      "cell_type": "code",
      "source": [
        "print(x)"
      ],
      "metadata": {
        "colab": {
          "base_uri": "https://localhost:8080/"
        },
        "id": "iA5pGGAvD2go",
        "outputId": "59b81adb-4168-4411-8249-ff308788ee68"
      },
      "execution_count": 89,
      "outputs": [
        {
          "output_type": "stream",
          "name": "stdout",
          "text": [
            "[[6.3200e-03 1.8000e+01 2.3100e+00 ... 1.5300e+01 3.9690e+02 4.9800e+00]\n",
            " [2.7310e-02 0.0000e+00 7.0700e+00 ... 1.7800e+01 3.9690e+02 9.1400e+00]\n",
            " [2.7290e-02 0.0000e+00 7.0700e+00 ... 1.7800e+01 3.9283e+02 4.0300e+00]\n",
            " ...\n",
            " [4.5270e-02 0.0000e+00 1.1930e+01 ... 2.1000e+01 3.9690e+02 9.0800e+00]\n",
            " [6.0760e-02 0.0000e+00 1.1930e+01 ... 2.1000e+01 3.9690e+02 5.6400e+00]\n",
            " [1.0959e-01 0.0000e+00 1.1930e+01 ... 2.1000e+01 3.9345e+02 6.4800e+00]]\n"
          ]
        }
      ]
    },
    {
      "cell_type": "code",
      "source": [
        "#print(y)"
      ],
      "metadata": {
        "id": "_xcNmEOwEDpD"
      },
      "execution_count": null,
      "outputs": []
    },
    {
      "cell_type": "code",
      "source": [
        "#Para terminar esta etapa quisera ver comon se relacionan las variables entre sí, entonces presento el mapa de calor\n",
        "corr = df.corr()\n",
        "#Plot figsize\n",
        "fig, ax = plt.subplots(figsize=(10, 10))\n",
        "#Generate Heat Map, allow annotations and place floats in map\n",
        "sns.heatmap(corr, cmap='RdBu', annot=True, fmt=\".2f\")\n",
        "#Apply xticks\n",
        "plt.xticks(range(len(corr.columns)), corr.columns);\n",
        "#Apply yticks\n",
        "plt.yticks(range(len(corr.columns)), corr.columns)\n",
        "#show plot\n",
        "plt.show()"
      ],
      "metadata": {
        "colab": {
          "base_uri": "https://localhost:8080/",
          "height": 604
        },
        "id": "V8prvk2kEYEE",
        "outputId": "07ad285a-3863-4afb-bbe2-2cccff3ba608"
      },
      "execution_count": 91,
      "outputs": [
        {
          "output_type": "display_data",
          "data": {
            "image/png": "[encoded data removed]",
            "text/plain": [
              "<Figure size 720x720 with 2 Axes>"
            ]
          },
          "metadata": {}
        }
      ]
    },
    {
      "cell_type": "markdown",
      "source": [
        "A continuación aplicaré 2 métodos para reducir la dimensionalidad de la data, se puede ver en el mapa de calor que hay variables que pueden eliminarse. El primer método es \"Feature Elimination manual\" y el segundo es \"Feature Importance With Random Forrest Regression\". "
      ],
      "metadata": {
        "id": "JYkbsSj3Enct"
      }
    },
    {
      "cell_type": "code",
      "source": [
        "abs(df.corr()[\"MEDV\"]) "
      ],
      "metadata": {
        "colab": {
          "base_uri": "https://localhost:8080/"
        },
        "id": "9M2N7aFHrs2Y",
        "outputId": "ec165501-e6a3-40e4-e248-d10348ca8b80"
      },
      "execution_count": 92,
      "outputs": [
        {
          "output_type": "execute_result",
          "data": {
            "text/plain": [
              "CRIM       0.397230\n",
              "ZN         0.406822\n",
              "INDUS      0.510829\n",
              "CHAS       0.173701\n",
              "NOX        0.459054\n",
              "RM         0.723951\n",
              "AGE        0.407470\n",
              "DIS        0.279547\n",
              "RAD        0.416638\n",
              "TAX        0.508864\n",
              "PTRATIO    0.543809\n",
              "B          0.347256\n",
              "LSTAT      0.743450\n",
              "MEDV       1.000000\n",
              "Name: MEDV, dtype: float64"
            ]
          },
          "metadata": {},
          "execution_count": 92
        }
      ]
    },
    {
      "cell_type": "markdown",
      "source": [
        "# Método 1: Feature selection MANUAL."
      ],
      "metadata": {
        "id": "WSObtFDHPZ1r"
      }
    },
    {
      "cell_type": "code",
      "source": [
        "#abs(df.corr()[\"MEDV\"][abs(df.corr()[\"MEDV\"])>0.5].drop('MEDV')).index.tolist()"
      ],
      "metadata": {
        "colab": {
          "base_uri": "https://localhost:8080/"
        },
        "id": "1e83loDBr36Z",
        "outputId": "bf2a7398-778c-4605-d57a-a525ce94a13a"
      },
      "execution_count": 93,
      "outputs": [
        {
          "output_type": "execute_result",
          "data": {
            "text/plain": [
              "['INDUS', 'RM', 'TAX', 'PTRATIO', 'LSTAT']"
            ]
          },
          "metadata": {},
          "execution_count": 93
        }
      ]
    },
    {
      "cell_type": "code",
      "source": [
        "vals = [0.1,0.2,0.3,0.4,0.5,0.6,0.7]\n",
        "classifier_pipeline = make_pipeline(StandardScaler(), KNeighborsRegressor(n_neighbors=10))\n",
        "cv = KFold(n_splits=10, random_state=None, shuffle=False) #Cross validation\n",
        "\n",
        "#Con este for varía el \"umbral\" de la covarianza con respécto al target MEDV, por eso para el primer caso están la mayoría de las variables\n",
        "for val in vals:\n",
        "    features = abs(df.corr()[\"MEDV\"][abs(df.corr()[\"MEDV\"])>val].drop('MEDV')).index.tolist()\n",
        "    \n",
        "    X = df.drop(columns='MEDV')\n",
        "    X=X[features]\n",
        "    \n",
        "    print(features)\n",
        "\n",
        "    y_pred = cross_val_predict(classifier_pipeline, X, y, cv=cv)\n",
        "    print(\"RMSE: \" + str(round(sqrt(mean_squared_error(y,y_pred)),2)))\n",
        "    print(\"R_squared: \" + str(round(r2_score(y,y_pred),2)))"
      ],
      "metadata": {
        "colab": {
          "base_uri": "https://localhost:8080/"
        },
        "id": "tRG8tTQWuLaX",
        "outputId": "6caafa46-f10f-46ea-a034-167517dc615a"
      },
      "execution_count": 94,
      "outputs": [
        {
          "output_type": "stream",
          "name": "stdout",
          "text": [
            "['CRIM', 'ZN', 'INDUS', 'CHAS', 'NOX', 'RM', 'AGE', 'DIS', 'RAD', 'TAX', 'PTRATIO', 'B', 'LSTAT']\n",
            "RMSE: 5.25\n",
            "R_squared: 0.67\n",
            "['CRIM', 'ZN', 'INDUS', 'NOX', 'RM', 'AGE', 'DIS', 'RAD', 'TAX', 'PTRATIO', 'B', 'LSTAT']\n",
            "RMSE: 5.12\n",
            "R_squared: 0.69\n",
            "['CRIM', 'ZN', 'INDUS', 'NOX', 'RM', 'AGE', 'RAD', 'TAX', 'PTRATIO', 'B', 'LSTAT']\n",
            "RMSE: 5.3\n",
            "R_squared: 0.66\n",
            "['ZN', 'INDUS', 'NOX', 'RM', 'AGE', 'RAD', 'TAX', 'PTRATIO', 'LSTAT']\n",
            "RMSE: 5.25\n",
            "R_squared: 0.67\n",
            "['INDUS', 'RM', 'TAX', 'PTRATIO', 'LSTAT']\n",
            "RMSE: 4.74\n",
            "R_squared: 0.73\n",
            "['RM', 'LSTAT']\n",
            "RMSE: 4.54\n",
            "R_squared: 0.75\n",
            "['RM', 'LSTAT']\n",
            "RMSE: 4.54\n",
            "R_squared: 0.75\n"
          ]
        }
      ]
    },
    {
      "cell_type": "markdown",
      "source": [
        "# Método 2: Feature selection."
      ],
      "metadata": {
        "id": "Lr2KBHy0Fb6s"
      }
    },
    {
      "cell_type": "code",
      "source": [
        "df=ds.dropna()\n",
        "df.isnull().sum()\n",
        "#Preparo nuevamente el data\n",
        "X = df.iloc[:, 0:13].values\n",
        "y = df.iloc[:, 13].values.reshape(-1,1)\n"
      ],
      "metadata": {
        "id": "_xj0pS0Si7fT"
      },
      "execution_count": 95,
      "outputs": []
    },
    {
      "cell_type": "markdown",
      "source": [
        "## Feature Importance With Random Forrest Regression\n",
        "La idea es usar un bosque de árboles para evaluar la importancia de las características en una tarea de clasificación."
      ],
      "metadata": {
        "id": "Ijc1DS71QRJT"
      }
    },
    {
      "cell_type": "code",
      "source": [
        "#Ahora separaré la data de entrenamiento y testeo, 70/30 respectivamente\n",
        "from sklearn.model_selection import train_test_split\n",
        "X_train, X_test, y_train, y_test = train_test_split(X, y, test_size = 0.3, random_state = 25)\n",
        "\n",
        "print(\"Shape of X_train: \",X_train.shape)\n",
        "print(\"Shape of X_test: \", X_test.shape)\n",
        "print(\"Shape of y_train: \",y_train.shape)\n",
        "print(\"Shape of y_test\",y_test.shape)"
      ],
      "metadata": {
        "colab": {
          "base_uri": "https://localhost:8080/"
        },
        "id": "0qJ-vI-Df7Ms",
        "outputId": "8a5b5d88-582e-4f50-f1b6-8c12346e2fea"
      },
      "execution_count": 96,
      "outputs": [
        {
          "output_type": "stream",
          "name": "stdout",
          "text": [
            "Shape of X_train:  (275, 13)\n",
            "Shape of X_test:  (119, 13)\n",
            "Shape of y_train:  (275, 1)\n",
            "Shape of y_test (119, 1)\n"
          ]
        }
      ]
    },
    {
      "cell_type": "code",
      "source": [
        "\n",
        "#Ahora preparo el modelo para el entrenamiento\n",
        "from sklearn.ensemble import RandomForestRegressor\n",
        "forest = RandomForestRegressor(random_state=99)\n",
        "forest.fit(X_train, y_train) \n",
        "importances = forest.feature_importances_\n",
        "print(importances) #Calc\n"
      ],
      "metadata": {
        "colab": {
          "base_uri": "https://localhost:8080/"
        },
        "id": "9HtGtmNaP0Xp",
        "outputId": "1a876fc9-f4e6-42a2-d331-a7b500de0df4"
      },
      "execution_count": 97,
      "outputs": [
        {
          "output_type": "stream",
          "name": "stderr",
          "text": [
            "/usr/local/lib/python3.7/dist-packages/ipykernel_launcher.py:5: DataConversionWarning: A column-vector y was passed when a 1d array was expected. Please change the shape of y to (n_samples,), for example using ravel().\n",
            "  \"\"\"\n"
          ]
        },
        {
          "output_type": "stream",
          "name": "stdout",
          "text": [
            "[0.05004622 0.00103763 0.0071775  0.00227787 0.02485829 0.42260485\n",
            " 0.01102769 0.04454143 0.00376225 0.02066917 0.02213024 0.01248733\n",
            " 0.37737955]\n"
          ]
        }
      ]
    },
    {
      "cell_type": "code",
      "source": [
        "#Gráfica de las variables más importantes\n",
        "import time\n",
        "import numpy as np\n",
        "\n",
        "start_time = time.time()\n",
        "importances = forest.feature_importances_\n",
        "std = np.std([tree.feature_importances_ for tree in forest.estimators_], axis=0)\n",
        "elapsed_time = time.time() - start_time\n",
        "\n",
        "print(f\"Elapsed time to compute the importances: {elapsed_time:.3f} seconds\")\n",
        "\n",
        "import pandas as pd\n",
        "features=abs(df.corr()[\"MEDV\"][abs(df.corr()[\"MEDV\"])>0.].drop('MEDV')).index.tolist()\n",
        "\n",
        "#print(features)\n",
        "forest_importances = pd.Series(importances, index=features)\n",
        "\n",
        "fig, ax = plt.subplots()\n",
        "forest_importances.plot.bar(yerr=std, ax=ax)\n",
        "ax.set_title(\"Feature importances using MDI\")\n",
        "ax.set_ylabel(\"Mean decrease in impurity\")\n",
        "fig.tight_layout()"
      ],
      "metadata": {
        "colab": {
          "base_uri": "https://localhost:8080/",
          "height": 314
        },
        "id": "r05EaRc2SZpx",
        "outputId": "3163c1e7-e91f-4908-a890-772e4e3762d6"
      },
      "execution_count": 98,
      "outputs": [
        {
          "output_type": "stream",
          "name": "stdout",
          "text": [
            "Elapsed time to compute the importances: 0.012 seconds\n"
          ]
        },
        {
          "output_type": "display_data",
          "data": {
            "image/png": "[encoded data removed]",
            "text/plain": [
              "<Figure size 432x288 with 1 Axes>"
            ]
          },
          "metadata": {}
        }
      ]
    },
    {
      "cell_type": "code",
      "source": [
        "print('R2 for Train)', forest.score( X_train, y_train ))\n",
        "print('R2 for Test (cross validation)', forest.score(X_test, y_test))"
      ],
      "metadata": {
        "colab": {
          "base_uri": "https://localhost:8080/"
        },
        "id": "SsoeJ5p8frwb",
        "outputId": "ab4da8bd-51ac-4f45-fe54-9650c46163b2"
      },
      "execution_count": 99,
      "outputs": [
        {
          "output_type": "stream",
          "name": "stdout",
          "text": [
            "R2 for Train) 0.9793432068800018\n",
            "R2 for Test (cross validation) 0.8923173593779065\n"
          ]
        }
      ]
    },
    {
      "cell_type": "code",
      "source": [
        "#Ahora preparo el modelo para el entrenamiento y busco las variables más importantes\n",
        "X = df.iloc[:,0:13]\n",
        "\n",
        "from sklearn.feature_selection import SelectFromModel\n",
        "model = SelectFromModel(forest, prefit=True, max_features=3)\n",
        "feature_idx = model.get_support()\n",
        "feature_names = X.columns[feature_idx]\n",
        "X_NEW = model.transform(X)\n",
        "pd.DataFrame(X_NEW, columns= feature_names)\n"
      ],
      "metadata": {
        "colab": {
          "base_uri": "https://localhost:8080/",
          "height": 458
        },
        "id": "DOh0cr5JMVph",
        "outputId": "175cebd5-ae70-47d8-9e4a-8d229c689d34"
      },
      "execution_count": 100,
      "outputs": [
        {
          "output_type": "stream",
          "name": "stderr",
          "text": [
            "/usr/local/lib/python3.7/dist-packages/sklearn/base.py:439: UserWarning: X has feature names, but SelectFromModel was fitted without feature names\n",
            "  f\"X has feature names, but {self.__class__.__name__} was fitted without\"\n"
          ]
        },
        {
          "output_type": "execute_result",
          "data": {
            "text/html": [
              "<div>\n",
              "<style scoped>\n",
              "    .dataframe tbody tr th:only-of-type {\n",
              "        vertical-align: middle;\n",
              "    }\n",
              "\n",
              "    .dataframe tbody tr th {\n",
              "        vertical-align: top;\n",
              "    }\n",
              "\n",
              "    .dataframe thead th {\n",
              "        text-align: right;\n",
              "    }\n",
              "</style>\n",
              "<table border=\"1\" class=\"dataframe\">\n",
              "  <thead>\n",
              "    <tr style=\"text-align: right;\">\n",
              "      <th></th>\n",
              "      <th>RM</th>\n",
              "      <th>LSTAT</th>\n",
              "    </tr>\n",
              "  </thead>\n",
              "  <tbody>\n",
              "    <tr>\n",
              "      <th>0</th>\n",
              "      <td>6.575</td>\n",
              "      <td>4.98</td>\n",
              "    </tr>\n",
              "    <tr>\n",
              "      <th>1</th>\n",
              "      <td>6.421</td>\n",
              "      <td>9.14</td>\n",
              "    </tr>\n",
              "    <tr>\n",
              "      <th>2</th>\n",
              "      <td>7.185</td>\n",
              "      <td>4.03</td>\n",
              "    </tr>\n",
              "    <tr>\n",
              "      <th>3</th>\n",
              "      <td>6.998</td>\n",
              "      <td>2.94</td>\n",
              "    </tr>\n",
              "    <tr>\n",
              "      <th>4</th>\n",
              "      <td>6.430</td>\n",
              "      <td>5.21</td>\n",
              "    </tr>\n",
              "    <tr>\n",
              "      <th>...</th>\n",
              "      <td>...</td>\n",
              "      <td>...</td>\n",
              "    </tr>\n",
              "    <tr>\n",
              "      <th>389</th>\n",
              "      <td>5.569</td>\n",
              "      <td>15.10</td>\n",
              "    </tr>\n",
              "    <tr>\n",
              "      <th>390</th>\n",
              "      <td>6.027</td>\n",
              "      <td>14.33</td>\n",
              "    </tr>\n",
              "    <tr>\n",
              "      <th>391</th>\n",
              "      <td>6.120</td>\n",
              "      <td>9.08</td>\n",
              "    </tr>\n",
              "    <tr>\n",
              "      <th>392</th>\n",
              "      <td>6.976</td>\n",
              "      <td>5.64</td>\n",
              "    </tr>\n",
              "    <tr>\n",
              "      <th>393</th>\n",
              "      <td>6.794</td>\n",
              "      <td>6.48</td>\n",
              "    </tr>\n",
              "  </tbody>\n",
              "</table>\n",
              "<p>394 rows × 2 columns</p>\n",
              "</div>"
            ],
            "text/plain": [
              "        RM  LSTAT\n",
              "0    6.575   4.98\n",
              "1    6.421   9.14\n",
              "2    7.185   4.03\n",
              "3    6.998   2.94\n",
              "4    6.430   5.21\n",
              "..     ...    ...\n",
              "389  5.569  15.10\n",
              "390  6.027  14.33\n",
              "391  6.120   9.08\n",
              "392  6.976   5.64\n",
              "393  6.794   6.48\n",
              "\n",
              "[394 rows x 2 columns]"
            ]
          },
          "metadata": {},
          "execution_count": 100
        }
      ]
    },
    {
      "cell_type": "code",
      "source": [
        "#Ahora luego de filtrar las variables y quedarme con 2: 'RM' y 'LSTAT', REspliteo la data de entrenamiento y validación.\n",
        "\n",
        "X_train, X_test, y_train, y_test = train_test_split(X_NEW, y, test_size=0.3, random_state=0)\n",
        "lm = LinearRegression()\n",
        "lm.fit( X_train, y_train )\n",
        "print('R2 for Train)', lm.score( X_train, y_train ))\n",
        "print('R2 for Test (cross validation)', lm.score(X_test, y_test))\n"
      ],
      "metadata": {
        "colab": {
          "base_uri": "https://localhost:8080/"
        },
        "id": "YAi5ayKYWijF",
        "outputId": "68fd8833-9468-45c7-cdc7-8b037e19a6e0"
      },
      "execution_count": 101,
      "outputs": [
        {
          "output_type": "stream",
          "name": "stdout",
          "text": [
            "R2 for Train) 0.6761835173351991\n",
            "R2 for Test (cross validation) 0.6053341278097532\n"
          ]
        }
      ]
    },
    {
      "cell_type": "markdown",
      "source": [
        "# Conclusión: \n",
        "En las dos soluciones planteadas se llegó a la misma conclusión, las dos variables que más importan son: 'RM' y 'LSTAT' y el resto pueden ser descartadas porque se logran valores de R2 aceptables prescindiendo de ellas.\n",
        "\n",
        "En primera instancia pareciera que el primer método logró mejores resultados con un R2 de 0.75 pero este resultado debería ser menor, ya que para este método no ví necesario separar los datos en entrenamiento y validación ya que ese sería el objetivo del segundo método. El verdadero objetivo del primer método es validar las variables elegidas por el segundo método.\n",
        "\n",
        "\n",
        "Al final el modelo con solo 2 variables obtuvo resultados aceptables, despreciando las otras variables."
      ],
      "metadata": {
        "id": "grjh5IH2jifr"
      }
    }
  ]
}